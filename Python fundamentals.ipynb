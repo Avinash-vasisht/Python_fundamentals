{
 "cells": [
  {
   "cell_type": "markdown",
   "id": "ce153d82-464c-4c56-95d6-7eea3d645137",
   "metadata": {},
   "source": [
    "#  What is programming?"
   ]
  },
  {
   "cell_type": "markdown",
   "id": "00282840-401a-4188-b154-5c989f1f6cd6",
   "metadata": {},
   "source": [
    "#### Program is a set of instructions that tells a computer what to do."
   ]
  },
  {
   "cell_type": "markdown",
   "id": "91399aaa-e886-47b3-84ec-7cfa092e8b91",
   "metadata": {},
   "source": [
    "#### Syntax:- Rules for how a sentence is constructed."
   ]
  },
  {
   "cell_type": "markdown",
   "id": "bbff2df8-aeac-4c46-99dc-87f53906cd4a",
   "metadata": {},
   "source": [
    "#### Semantics:- Actual meaning of statement."
   ]
  },
  {
   "cell_type": "markdown",
   "id": "1f766053-32a4-44df-9992-78ee929aacae",
   "metadata": {},
   "source": [
    "####  Script:- Is a program that is short, simple and can be written very quickly."
   ]
  },
  {
   "cell_type": "markdown",
   "id": "e16bb565-d0ad-4d2f-9c47-f83f571ee174",
   "metadata": {},
   "source": [
    "# What is automation?"
   ]
  },
  {
   "cell_type": "markdown",
   "id": "7146945c-f063-4ae7-8558-319d76cea9b6",
   "metadata": {},
   "source": [
    "#### Automation is a process to remove the manual process."
   ]
  },
  {
   "cell_type": "markdown",
   "id": "ca4350b3-2261-4acb-9933-f258ce855c7a",
   "metadata": {},
   "source": [
    "####  Function:- Pieces of code that perform a unit of work. Like print() function\n"
   ]
  },
  {
   "cell_type": "markdown",
   "id": "891cb391-766f-4b8a-9baa-3fde0075ffd1",
   "metadata": {},
   "source": [
    "####  Keywords:- Reserved words that are used to perform a specific purpose. Like IF, WHILE and FOR."
   ]
  },
  {
   "cell_type": "markdown",
   "id": "83f2676f-0e47-4840-9ee3-d94d1e612f63",
   "metadata": {},
   "source": [
    "# Data Types:- Kind of values that can be stored and manipulated."
   ]
  },
  {
   "cell_type": "markdown",
   "id": "46461d8b-de7b-4437-abc3-0eececb109ed",
   "metadata": {},
   "source": [
    "####  String written between quotes. Like 'Aman', '5' etc."
   ]
  },
  {
   "cell_type": "code",
   "execution_count": 2,
   "id": "9171ea3b-2146-4007-b079-870e9952d4bc",
   "metadata": {},
   "outputs": [
    {
     "name": "stdout",
     "output_type": "stream",
     "text": [
      "hello world\n"
     ]
    }
   ],
   "source": [
    "print(\"hello world\")"
   ]
  },
  {
   "cell_type": "markdown",
   "id": "076428df-452c-4233-8dd9-81396fbf6a40",
   "metadata": {},
   "source": [
    "####  Integers:- Whole number without fraction. Like 1, 524 etc."
   ]
  },
  {
   "cell_type": "code",
   "execution_count": 3,
   "id": "4e881281-1283-464d-b5ea-eed19bf94a9d",
   "metadata": {},
   "outputs": [
    {
     "name": "stdout",
     "output_type": "stream",
     "text": [
      "524\n"
     ]
    }
   ],
   "source": [
    "print(524)"
   ]
  },
  {
   "cell_type": "markdown",
   "id": "808eec24-e742-46b2-8735-2f37f524da47",
   "metadata": {},
   "source": [
    "#### Float:- No. with a fractional part. Like 2.5, 8.2 etc."
   ]
  },
  {
   "cell_type": "code",
   "execution_count": 4,
   "id": "5bb1276f-7ead-4437-84c7-93e42f000466",
   "metadata": {},
   "outputs": [
    {
     "name": "stdout",
     "output_type": "stream",
     "text": [
      "7.2\n"
     ]
    }
   ],
   "source": [
    "print(7.2)"
   ]
  },
  {
   "cell_type": "markdown",
   "id": "f34896dc-0f7a-4623-b3ee-16439775f9d0",
   "metadata": {},
   "source": [
    "# Variables:- Names that we give to certain values in our programs."
   ]
  },
  {
   "cell_type": "markdown",
   "id": "47a761c6-622b-4111-ab00-e94cd1e1c938",
   "metadata": {},
   "source": [
    "####  Assignment:- Process of storing a value inside a variable."
   ]
  },
  {
   "cell_type": "code",
   "execution_count": 5,
   "id": "ccc14581-e80d-4ef8-908f-7640bdbd85ad",
   "metadata": {},
   "outputs": [],
   "source": [
    "Length= 10 #length= Variable and 10= Assignment."
   ]
  },
  {
   "cell_type": "markdown",
   "id": "a26960f8-2fcc-4e89-9d2a-4fcc0964bf9d",
   "metadata": {},
   "source": [
    "#### Variable naming restrictions:-"
   ]
  },
  {
   "cell_type": "code",
   "execution_count": 7,
   "id": "9e4bcfb3-8bf5-4739-bd72-145907e8aaca",
   "metadata": {},
   "outputs": [],
   "source": [
    "# Don't use keywords or functions that are reserved. Like def='python'\n",
    "# Don't use spaces. Like my name= 'avinash'\n",
    "# Must start with a letter or an underscore (_). Like my_name= 'avinash' or _my_name= 'avinash'\n",
    "# Must be made up of only letters, Nos. and underscore (_).\n",
    "# variables are case sensitive. Like My_name and my_name both are different"
   ]
  },
  {
   "cell_type": "markdown",
   "id": "134a5a0d-e453-4838-9c3e-d6723dedf0b8",
   "metadata": {},
   "source": [
    "# Arithmetic Operations:- Numeric value can be computed with arithmetic operations:-"
   ]
  },
  {
   "cell_type": "code",
   "execution_count": 8,
   "id": "2aec4eab-faa0-491f-b3f5-6929bde1a9cc",
   "metadata": {},
   "outputs": [
    {
     "data": {
      "text/plain": [
       "5"
      ]
     },
     "execution_count": 8,
     "metadata": {},
     "output_type": "execute_result"
    }
   ],
   "source": [
    "2+3 #add the number"
   ]
  },
  {
   "cell_type": "code",
   "execution_count": 9,
   "id": "1e746c91-e7ef-46b6-81f0-d08198ffcbf2",
   "metadata": {},
   "outputs": [
    {
     "data": {
      "text/plain": [
       "2"
      ]
     },
     "execution_count": 9,
     "metadata": {},
     "output_type": "execute_result"
    }
   ],
   "source": [
    "10-8 #subtract the number"
   ]
  },
  {
   "cell_type": "code",
   "execution_count": 10,
   "id": "ade1e9b1-663e-4f27-8645-dfddb854d2c2",
   "metadata": {},
   "outputs": [
    {
     "data": {
      "text/plain": [
       "64"
      ]
     },
     "execution_count": 10,
     "metadata": {},
     "output_type": "execute_result"
    }
   ],
   "source": [
    "8*8 # multiply the number"
   ]
  },
  {
   "cell_type": "code",
   "execution_count": 11,
   "id": "15050709-74d3-46d7-8ba5-9c577aec1fe3",
   "metadata": {},
   "outputs": [
    {
     "data": {
      "text/plain": [
       "5.0"
      ]
     },
     "execution_count": 11,
     "metadata": {},
     "output_type": "execute_result"
    }
   ],
   "source": [
    "10/2 # divide the number and give float value"
   ]
  },
  {
   "cell_type": "code",
   "execution_count": 13,
   "id": "c0f197eb-fbda-4049-9821-dfb40e5dc81d",
   "metadata": {},
   "outputs": [
    {
     "data": {
      "text/plain": [
       "5"
      ]
     },
     "execution_count": 13,
     "metadata": {},
     "output_type": "execute_result"
    }
   ],
   "source": [
    "10//2 # divide the number but give the integer value."
   ]
  },
  {
   "cell_type": "code",
   "execution_count": 14,
   "id": "892a2322-4376-459f-a1e8-1857d3a41e93",
   "metadata": {},
   "outputs": [
    {
     "data": {
      "text/plain": [
       "0"
      ]
     },
     "execution_count": 14,
     "metadata": {},
     "output_type": "execute_result"
    }
   ],
   "source": [
    "10%2 #Gives remainder of the expression."
   ]
  },
  {
   "cell_type": "code",
   "execution_count": 15,
   "id": "ac29433a-40b8-4d56-afbd-f1ba9e326cc1",
   "metadata": {},
   "outputs": [
    {
     "data": {
      "text/plain": [
       "100"
      ]
     },
     "execution_count": 15,
     "metadata": {},
     "output_type": "execute_result"
    }
   ],
   "source": [
    "10**2 #Gives the exponent value."
   ]
  },
  {
   "cell_type": "markdown",
   "id": "0abed3d0-84a2-4115-a8bd-a854a3fc28c4",
   "metadata": {},
   "source": [
    "####  Arithmetic operations has following precedence:-\n"
   ]
  },
  {
   "cell_type": "code",
   "execution_count": 16,
   "id": "c5f27d98-8f6b-4727-b17d-d0e26c91b90d",
   "metadata": {},
   "outputs": [],
   "source": [
    "# Highest ()\n",
    "# Second **\n",
    "# Third *, /, //, %\n",
    "# Lowest +, -"
   ]
  },
  {
   "cell_type": "markdown",
   "id": "c2961fe8-d12d-4c96-b7ab-d8d94b72e4a7",
   "metadata": {},
   "source": [
    "# FUNCTIONS"
   ]
  },
  {
   "cell_type": "code",
   "execution_count": 21,
   "id": "7bdb2f2d-f4f4-43f3-a4ef-a80d42735e1d",
   "metadata": {},
   "outputs": [
    {
     "name": "stdout",
     "output_type": "stream",
     "text": [
      "welcome, kay\n"
     ]
    }
   ],
   "source": [
    "def greeting(name): #Function name= greeting, name= parameter\n",
    "              print(\"welcome, \" + name) # print(\"welcome, \" + name)= body of function.\n",
    "greeting(\"kay\")"
   ]
  },
  {
   "cell_type": "markdown",
   "id": "27dba2f6-6ea3-4969-b96a-9835f443f675",
   "metadata": {},
   "source": [
    "### Returning values"
   ]
  },
  {
   "cell_type": "code",
   "execution_count": 22,
   "id": "2eabfda6-ef91-42b8-99aa-f32d8f8212a0",
   "metadata": {},
   "outputs": [],
   "source": [
    "# Use this when we use value several times in our code.\n",
    "# The return keyword acts like a variable."
   ]
  },
  {
   "cell_type": "code",
   "execution_count": 24,
   "id": "876eca5c-5270-4e5c-9353-d8fac536311d",
   "metadata": {},
   "outputs": [
    {
     "name": "stdout",
     "output_type": "stream",
     "text": [
      "the sum of both area is :20.5\n"
     ]
    }
   ],
   "source": [
    "def area_triangle( base, height): #defining function\n",
    "              return base*height/2 #Body of the function\n",
    "area_a= area_triangle(5, 4)\n",
    "area_b= area_triangle(7, 3)\n",
    "sum= area_a + area_b\n",
    "print(\"the sum of both area is :\" +str(sum))"
   ]
  },
  {
   "cell_type": "markdown",
   "id": "9d91a2b1-301f-4e7c-82dc-4ef34d351300",
   "metadata": {},
   "source": [
    "# CONDITIONALS"
   ]
  },
  {
   "cell_type": "markdown",
   "id": "0b5bab06-d3ab-4ca1-8f32-81ec0f36cf33",
   "metadata": {},
   "source": [
    "### Boolean:- One of two possible states either true or false."
   ]
  },
  {
   "cell_type": "markdown",
   "id": "5294edb6-3af5-4f11-968e-a6de63a01d1a",
   "metadata": {},
   "source": [
    "###  Logical operators:"
   ]
  },
  {
   "cell_type": "code",
   "execution_count": 30,
   "id": "45f67f47-96c5-4e77-bfd2-80bdaf83c889",
   "metadata": {},
   "outputs": [
    {
     "name": "stdout",
     "output_type": "stream",
     "text": [
      "False\n"
     ]
    }
   ],
   "source": [
    "# AND:- Both the Conditions should be true.\n",
    "x=5\n",
    "print(x < 5 and  x < 10)"
   ]
  },
  {
   "cell_type": "code",
   "execution_count": 31,
   "id": "b3b91e52-adb7-4e5d-8c0b-112fab6d2cd5",
   "metadata": {},
   "outputs": [
    {
     "name": "stdout",
     "output_type": "stream",
     "text": [
      "False\n"
     ]
    }
   ],
   "source": [
    "# OR:- Either of the Conditions should be satisfied.\n",
    "x=5\n",
    "print(x < 5 or x < 4)"
   ]
  },
  {
   "cell_type": "code",
   "execution_count": 32,
   "id": "65d992c7-e906-4379-94cd-4a294cf8cc71",
   "metadata": {},
   "outputs": [
    {
     "name": "stdout",
     "output_type": "stream",
     "text": [
      "True\n"
     ]
    }
   ],
   "source": [
    "# NOT:- Inverts the value of the expression.\n",
    "x=5\n",
    "print(not(x < 5 and x < 10))"
   ]
  },
  {
   "cell_type": "markdown",
   "id": "8bcf1edc-5650-410c-98df-c458a93e7349",
   "metadata": {},
   "source": [
    "###  Comparison operators:- Compare values"
   ]
  },
  {
   "cell_type": "code",
   "execution_count": 33,
   "id": "3d3d69d8-38bb-43a4-87d5-2e00e2a6a12a",
   "metadata": {},
   "outputs": [
    {
     "name": "stdout",
     "output_type": "stream",
     "text": [
      "False\n"
     ]
    }
   ],
   "source": [
    "# == (equality)\n",
    "x = 5\n",
    "y = 3\n",
    "print(x == y)"
   ]
  },
  {
   "cell_type": "code",
   "execution_count": 34,
   "id": "3300f588-07e4-4649-aadb-6e4d6de2489a",
   "metadata": {},
   "outputs": [
    {
     "name": "stdout",
     "output_type": "stream",
     "text": [
      "True\n"
     ]
    }
   ],
   "source": [
    "# != (not equal to)\n",
    "x = 5\n",
    "y = 3\n",
    "print(x != y)"
   ]
  },
  {
   "cell_type": "code",
   "execution_count": 35,
   "id": "3122422f-983e-44a8-903f-752837d7a7b8",
   "metadata": {},
   "outputs": [
    {
     "name": "stdout",
     "output_type": "stream",
     "text": [
      "True\n"
     ]
    }
   ],
   "source": [
    "#  > (greater than)\n",
    "x = 5\n",
    "y = 3\n",
    "print(x > y)"
   ]
  },
  {
   "cell_type": "code",
   "execution_count": 36,
   "id": "991f999a-d4ca-4976-8c17-85fd78175375",
   "metadata": {},
   "outputs": [
    {
     "name": "stdout",
     "output_type": "stream",
     "text": [
      "False\n"
     ]
    }
   ],
   "source": [
    "# < (less than)\n",
    "x = 5\n",
    "y = 3\n",
    "print(x < y)"
   ]
  },
  {
   "cell_type": "code",
   "execution_count": 37,
   "id": "6e820d36-6a88-4f97-a36c-3acef179bdcf",
   "metadata": {},
   "outputs": [
    {
     "name": "stdout",
     "output_type": "stream",
     "text": [
      "True\n"
     ]
    }
   ],
   "source": [
    "# >= (greater than or equal to)\n",
    "x = 5\n",
    "y = 3\n",
    "print(x >= y)"
   ]
  },
  {
   "cell_type": "code",
   "execution_count": 38,
   "id": "642c81c8-1bf3-40c4-88fd-c339197af6e4",
   "metadata": {},
   "outputs": [
    {
     "name": "stdout",
     "output_type": "stream",
     "text": [
      "False\n"
     ]
    }
   ],
   "source": [
    "#  <= (less than or equal to)\n",
    "x = 5\n",
    "y = 3\n",
    "print(x <= y)"
   ]
  },
  {
   "cell_type": "markdown",
   "id": "f102341c-550a-4d75-ae28-4d906c0dae22",
   "metadata": {},
   "source": [
    "##  Branching with if Statements"
   ]
  },
  {
   "cell_type": "markdown",
   "id": "64aa0976-e8e7-4197-96e1-4f9efa453c0d",
   "metadata": {},
   "source": [
    "#### Branching:- Ability of a program to alter its execution sequence."
   ]
  },
  {
   "cell_type": "code",
   "execution_count": 51,
   "id": "4801c0c0-1f66-4ee3-9892-db790b3081d0",
   "metadata": {},
   "outputs": [
    {
     "name": "stdout",
     "output_type": "stream",
     "text": [
      "invalid username. Must be at least 3 characters long\n"
     ]
    }
   ],
   "source": [
    "def hint_username(username):\n",
    "            if len(username) <4:\n",
    "                print(\"invalid username. Must be at least 4 characters long\") \n",
    "hint_username(\"Jay\")"
   ]
  },
  {
   "cell_type": "markdown",
   "id": "cadf8c2c-116f-4c25-8657-55f34a1bbb6e",
   "metadata": {},
   "source": [
    "## Else Statements"
   ]
  },
  {
   "cell_type": "code",
   "execution_count": 54,
   "id": "d30b1169-d048-4853-b7d8-2dcc03314a36",
   "metadata": {},
   "outputs": [
    {
     "name": "stdout",
     "output_type": "stream",
     "text": [
      "valid username\n"
     ]
    }
   ],
   "source": [
    "def hint_username(username):\n",
    "        if len( username) <3:\n",
    "            print(\"invalid username. Must be at least 3 characters long\")\n",
    "        else:\n",
    "            print(\"valid username\")\n",
    "hint_username(\"Avinash\")"
   ]
  },
  {
   "cell_type": "markdown",
   "id": "d89fb6e6-5159-4a09-9ea6-4fc3b828782e",
   "metadata": {},
   "source": [
    "## Elif statements ( else if)"
   ]
  },
  {
   "cell_type": "code",
   "execution_count": 55,
   "id": "2c00b700-b899-4183-88df-653b75a3e65d",
   "metadata": {},
   "outputs": [
    {
     "name": "stdout",
     "output_type": "stream",
     "text": [
      "Valid username\n"
     ]
    }
   ],
   "source": [
    "def hint_username (username):\n",
    "        if len(username) < 3:\n",
    "            print(\" Invalid username. Must be at least 3 characters long\")\n",
    "        elif len(username) > 15:\n",
    "            print(\"Invalid username. Must be atmost 15 characters long\")\n",
    "        else:\n",
    "            print(\"Valid username\")\n",
    "hint_username(\"avinash\")"
   ]
  },
  {
   "cell_type": "markdown",
   "id": "d9c30bc4-644e-46f6-b3a6-04cd81345777",
   "metadata": {},
   "source": [
    "# WHILE LOOPS"
   ]
  },
  {
   "cell_type": "code",
   "execution_count": null,
   "id": "0cfb8179-9616-431b-b0b5-4471d0a7f4c1",
   "metadata": {},
   "outputs": [],
   "source": [
    "# Instruct your computer to continuously execute your code based on the value of a condition."
   ]
  },
  {
   "cell_type": "code",
   "execution_count": 60,
   "id": "925ff51b-4a36-4bac-8ad0-0b3ceebf897f",
   "metadata": {},
   "outputs": [
    {
     "name": "stdout",
     "output_type": "stream",
     "text": [
      "not there yet, x=0\n",
      "not there yet, x=1\n",
      "not there yet, x=2\n",
      "not there yet, x=3\n",
      "not there yet, x=4\n",
      "x=5\n"
     ]
    }
   ],
   "source": [
    "x= 0 #initial value to a variable\n",
    "while x<5: #Loop condition\n",
    "    print(\"not there yet, x=\" + str(x)) #body of while loop\n",
    "    x= x+1 #increment the value of x by 1\n",
    "print(\"x=\" + str(x))"
   ]
  },
  {
   "cell_type": "markdown",
   "id": "3a43a7a0-e1a5-45b6-b71b-0b0fdaaceae5",
   "metadata": {},
   "source": [
    "# For loop"
   ]
  },
  {
   "cell_type": "code",
   "execution_count": 61,
   "id": "f2f928aa-26dc-47a3-beca-85ff0b0631ec",
   "metadata": {},
   "outputs": [],
   "source": [
    "#Iterates over a sequence of values"
   ]
  },
  {
   "cell_type": "code",
   "execution_count": 62,
   "id": "a18c448c-f535-491d-b456-62178ddb6bd6",
   "metadata": {},
   "outputs": [
    {
     "name": "stdout",
     "output_type": "stream",
     "text": [
      "0\n",
      "1\n",
      "2\n",
      "3\n",
      "4\n"
     ]
    }
   ],
   "source": [
    "for x in range(5):\n",
    "    print(x)"
   ]
  },
  {
   "cell_type": "markdown",
   "id": "0cf00fc9-82be-4da1-be6b-739b3cd73fec",
   "metadata": {},
   "source": [
    "##  Nested for Loops"
   ]
  },
  {
   "cell_type": "code",
   "execution_count": 63,
   "id": "c06c428e-6f32-4930-a106-e46d9af936e2",
   "metadata": {},
   "outputs": [
    {
     "name": "stdout",
     "output_type": "stream",
     "text": [
      "[0I0] [0I1] [0I2] [0I3] [0I4] [0I5] [0I6] \n",
      "[1I1] [1I2] [1I3] [1I4] [1I5] [1I6] \n",
      "[2I2] [2I3] [2I4] [2I5] [2I6] \n",
      "[3I3] [3I4] [3I5] [3I6] \n",
      "[4I4] [4I5] [4I6] \n",
      "[5I5] [5I6] \n",
      "[6I6] \n"
     ]
    }
   ],
   "source": [
    "for left in range (7): # iterate over numbers from 0 to 6\n",
    "    for right in range (left, 7): #iterate over numbers from the value of left to 6 and assign each number to the variable right\n",
    "        print(\"[\" + str(left) + \"I\" + str(right) + \"]\", end=\" \")\n",
    "    print()\n"
   ]
  },
  {
   "cell_type": "markdown",
   "id": "95635a5c-4fe4-45ff-9f1f-15c316ec87b1",
   "metadata": {},
   "source": [
    "# STRINGS"
   ]
  },
  {
   "cell_type": "code",
   "execution_count": null,
   "id": "f2953488-68ad-4824-99b7-bdb0bb5866c9",
   "metadata": {},
   "outputs": [],
   "source": [
    "# Data type that is writtten between single or double quotes"
   ]
  },
  {
   "cell_type": "code",
   "execution_count": 1,
   "id": "952962a0-51f9-42dc-8517-d53a042ceaef",
   "metadata": {},
   "outputs": [
    {
     "name": "stdout",
     "output_type": "stream",
     "text": [
      "Gold\n"
     ]
    }
   ],
   "source": [
    "print(\"Gold\")"
   ]
  },
  {
   "cell_type": "markdown",
   "id": "a8b42c6e-d0be-4be5-af89-6d889fa82845",
   "metadata": {},
   "source": [
    "### Indexing:- Accessing individual characters within a string by their position or index."
   ]
  },
  {
   "cell_type": "code",
   "execution_count": 2,
   "id": "b0b0ccd9-c98c-446d-9941-5f08f1f59926",
   "metadata": {},
   "outputs": [
    {
     "name": "stdout",
     "output_type": "stream",
     "text": [
      "a\n"
     ]
    }
   ],
   "source": [
    "name= \"jaylen\"\n",
    "print(name[1]) #indexing start with 0 not with 1."
   ]
  },
  {
   "cell_type": "markdown",
   "id": "6f9448d0-60ce-47f6-8669-bb96a81455e0",
   "metadata": {},
   "source": [
    "### Negative indexes:- Access characters in a string from the end rather than the beginning. Start from the -1."
   ]
  },
  {
   "cell_type": "code",
   "execution_count": 3,
   "id": "1d484741-18d6-4412-929c-cf9b42ed8bdc",
   "metadata": {},
   "outputs": [
    {
     "name": "stdout",
     "output_type": "stream",
     "text": [
      "n\n"
     ]
    }
   ],
   "source": [
    "name= \"jaylen\"\n",
    "print(name[-1])"
   ]
  },
  {
   "cell_type": "markdown",
   "id": "6a210e8b-4ae9-4ff0-8e3f-63b7e98e5304",
   "metadata": {},
   "source": [
    "### Slice:- Portion of a string that can contain more than one character"
   ]
  },
  {
   "cell_type": "code",
   "execution_count": 4,
   "id": "f7ca1431-2741-4117-8d6c-e402aa229b6c",
   "metadata": {},
   "outputs": [
    {
     "data": {
      "text/plain": [
       "'ran'"
      ]
     },
     "execution_count": 4,
     "metadata": {},
     "output_type": "execute_result"
    }
   ],
   "source": [
    "color= \"orange\"\n",
    "color[1:4] # Retrun element from 1 t0 3"
   ]
  },
  {
   "cell_type": "code",
   "execution_count": 5,
   "id": "6b71c67a-948e-4d7a-8eb3-39286f7f1a92",
   "metadata": {},
   "outputs": [
    {
     "name": "stdout",
     "output_type": "stream",
     "text": [
      "pine\n"
     ]
    }
   ],
   "source": [
    "fruit= 'pineapple'\n",
    "print( fruit [ :4]) #retrun element from start to 3rd index\n"
   ]
  },
  {
   "cell_type": "code",
   "execution_count": 6,
   "id": "c215c326-1bfa-4b0e-99bd-f418019de427",
   "metadata": {},
   "outputs": [
    {
     "name": "stdout",
     "output_type": "stream",
     "text": [
      "apple\n"
     ]
    }
   ],
   "source": [
    "fruit= 'pineapple'\n",
    "print( fruit [4:]) #return element from 4th till end"
   ]
  },
  {
   "cell_type": "markdown",
   "id": "6dbb63e9-02cf-473a-a462-2fc108f895d1",
   "metadata": {},
   "source": [
    "### To get the index of a certain character we use a method."
   ]
  },
  {
   "cell_type": "code",
   "execution_count": 7,
   "id": "9514c9a7-d370-4fc2-92aa-35389f9b5124",
   "metadata": {},
   "outputs": [
    {
     "data": {
      "text/plain": [
       "5"
      ]
     },
     "execution_count": 7,
     "metadata": {},
     "output_type": "execute_result"
    }
   ],
   "source": [
    "pets= \"cats & dogs\"\n",
    "pets.index(\"&\") #return index number of &\n"
   ]
  },
  {
   "cell_type": "markdown",
   "id": "e2f91daf-5392-48eb-a00f-028df5edfd20",
   "metadata": {},
   "source": [
    "### IN keyword"
   ]
  },
  {
   "cell_type": "code",
   "execution_count": 9,
   "id": "1f9e7135-62dc-418a-8238-ac1b399ba951",
   "metadata": {},
   "outputs": [
    {
     "data": {
      "text/plain": [
       "True"
      ]
     },
     "execution_count": 9,
     "metadata": {},
     "output_type": "execute_result"
    }
   ],
   "source": [
    "pets= \"cats & dogs\"\n",
    "\"cats\" in pets #retrun true if it is available."
   ]
  },
  {
   "cell_type": "markdown",
   "id": "09944198-a185-43a2-bdfb-58f29f10004d",
   "metadata": {},
   "source": [
    "### String Methods"
   ]
  },
  {
   "cell_type": "code",
   "execution_count": 10,
   "id": "f1a0d178-f529-42ee-85a4-a0ec2e643d86",
   "metadata": {},
   "outputs": [
    {
     "data": {
      "text/plain": [
       "'MOUNTAIN'"
      ]
     },
     "execution_count": 10,
     "metadata": {},
     "output_type": "execute_result"
    }
   ],
   "source": [
    "\"mountain\".upper() #return the string in uppercase"
   ]
  },
  {
   "cell_type": "code",
   "execution_count": 11,
   "id": "c9eed5e0-598d-423f-810f-c4374fe458bf",
   "metadata": {},
   "outputs": [
    {
     "data": {
      "text/plain": [
       "'mountain'"
      ]
     },
     "execution_count": 11,
     "metadata": {},
     "output_type": "execute_result"
    }
   ],
   "source": [
    "\"Mountain\".lower() #return the string in lowercase"
   ]
  },
  {
   "cell_type": "code",
   "execution_count": 12,
   "id": "7d5907e6-805c-44f8-b3df-5dccd9263cb4",
   "metadata": {},
   "outputs": [
    {
     "data": {
      "text/plain": [
       "'python'"
      ]
     },
     "execution_count": 12,
     "metadata": {},
     "output_type": "execute_result"
    }
   ],
   "source": [
    "\" python \".strip() #remove white spaces from the string"
   ]
  },
  {
   "cell_type": "code",
   "execution_count": 13,
   "id": "3ca0cd02-c76b-412a-963b-b1a3d8cc8233",
   "metadata": {},
   "outputs": [
    {
     "data": {
      "text/plain": [
       "'python'"
      ]
     },
     "execution_count": 13,
     "metadata": {},
     "output_type": "execute_result"
    }
   ],
   "source": [
    "\"python \".rstrip() #remove space from right side of the string"
   ]
  },
  {
   "cell_type": "code",
   "execution_count": 14,
   "id": "aecc1cb5-baa2-45f8-bea4-8a9800c1289a",
   "metadata": {},
   "outputs": [
    {
     "data": {
      "text/plain": [
       "'python'"
      ]
     },
     "execution_count": 14,
     "metadata": {},
     "output_type": "execute_result"
    }
   ],
   "source": [
    "\" python\".lstrip() #remove space from left side of the sting"
   ]
  },
  {
   "cell_type": "code",
   "execution_count": 15,
   "id": "a312da1f-660b-452c-936d-63859fcfa602",
   "metadata": {},
   "outputs": [
    {
     "data": {
      "text/plain": [
       "False"
      ]
     },
     "execution_count": 15,
     "metadata": {},
     "output_type": "execute_result"
    }
   ],
   "source": [
    "\"forest\".isnumeric() #check if string is numeric or not"
   ]
  },
  {
   "cell_type": "markdown",
   "id": "981c039e-0603-493d-9583-5ac68f4bd0a2",
   "metadata": {},
   "source": [
    "### Formatting Strings"
   ]
  },
  {
   "cell_type": "code",
   "execution_count": null,
   "id": "3eb95121-bac5-46c4-946c-07e6e405c9dd",
   "metadata": {},
   "outputs": [],
   "source": [
    "# format():-Function used to format strings in a specified manner."
   ]
  },
  {
   "cell_type": "code",
   "execution_count": 20,
   "id": "61a223e6-b273-4fb8-bd26-7660575d5e4e",
   "metadata": {},
   "outputs": [
    {
     "name": "stdout",
     "output_type": "stream",
     "text": [
      "hello manny, your lucky number is 15\n"
     ]
    }
   ],
   "source": [
    "name= \"manny\"\n",
    "number= len(name)*3\n",
    "print(\"hello {}, your lucky number is {}\". format(name, number))"
   ]
  },
  {
   "cell_type": "markdown",
   "id": "fed88e28-313b-47d3-a54a-ab31522dddfc",
   "metadata": {},
   "source": [
    "# LISTS"
   ]
  },
  {
   "cell_type": "code",
   "execution_count": null,
   "id": "fdc7636c-c575-48a9-89ed-df4d988f76e0",
   "metadata": {},
   "outputs": [],
   "source": [
    "#  Data structure that stores a collection of items in a specific order."
   ]
  },
  {
   "cell_type": "code",
   "execution_count": 21,
   "id": "34db5d24-2b6c-4db6-bb6b-4d0ce0064e78",
   "metadata": {},
   "outputs": [
    {
     "name": "stdout",
     "output_type": "stream",
     "text": [
      "['now', 'we', 'are', 'cooking!']\n"
     ]
    }
   ],
   "source": [
    "x= [\"now\", \"we\", \"are\", \"cooking!\"]\n",
    "print(x)"
   ]
  },
  {
   "cell_type": "markdown",
   "id": "f64c3925-a15c-499f-97de-4a962afe075a",
   "metadata": {},
   "source": [
    "### Modifying the Contents of a List"
   ]
  },
  {
   "cell_type": "code",
   "execution_count": 28,
   "id": "feca4556-3458-4985-bbbb-01557afb552c",
   "metadata": {},
   "outputs": [
    {
     "data": {
      "text/plain": [
       "['pineapple', 'banana', 'apple', 'melon', 'kiwi']"
      ]
     },
     "execution_count": 28,
     "metadata": {},
     "output_type": "execute_result"
    }
   ],
   "source": [
    "fruits= [\"pineapple\", \"banana\", \"apple\", \"melon\"]\n",
    "fruits.append(\"kiwi\") #add kiwi at the end of the list\n",
    "fruits"
   ]
  },
  {
   "cell_type": "code",
   "execution_count": 29,
   "id": "0b1b769c-c2a0-4e24-a386-e6aa1fb1641e",
   "metadata": {},
   "outputs": [
    {
     "data": {
      "text/plain": [
       "['orange', 'pineapple', 'banana', 'apple', 'melon', 'kiwi']"
      ]
     },
     "execution_count": 29,
     "metadata": {},
     "output_type": "execute_result"
    }
   ],
   "source": [
    "fruits.insert(0, \"orange\") #insert orange at 0 index\n",
    "fruits"
   ]
  },
  {
   "cell_type": "code",
   "execution_count": 30,
   "id": "fe9e041b-4715-4df2-9d90-e998e9fd4bcd",
   "metadata": {},
   "outputs": [
    {
     "data": {
      "text/plain": [
       "['orange', 'pineapple', 'banana', 'apple', 'kiwi']"
      ]
     },
     "execution_count": 30,
     "metadata": {},
     "output_type": "execute_result"
    }
   ],
   "source": [
    "fruits.remove(\"melon\") #remove melon from the list\n",
    "fruits"
   ]
  },
  {
   "cell_type": "code",
   "execution_count": 31,
   "id": "77be6b62-58a4-40de-9a95-1665149851cf",
   "metadata": {},
   "outputs": [
    {
     "data": {
      "text/plain": [
       "['orange', 'pineapple', 'banana', 'kiwi']"
      ]
     },
     "execution_count": 31,
     "metadata": {},
     "output_type": "execute_result"
    }
   ],
   "source": [
    "fruits.pop(3) #remove element from the 3rd index\n",
    "fruits"
   ]
  },
  {
   "cell_type": "code",
   "execution_count": 32,
   "id": "6914613e-03c3-4e09-946a-d79afac434f7",
   "metadata": {},
   "outputs": [
    {
     "data": {
      "text/plain": [
       "['orange', 'pineapple', 'strawberry', 'kiwi']"
      ]
     },
     "execution_count": 32,
     "metadata": {},
     "output_type": "execute_result"
    }
   ],
   "source": [
    "fruits [2]= \"strawberry\" #change 2nd index value with strawberry\n",
    "fruits"
   ]
  },
  {
   "cell_type": "markdown",
   "id": "337d70fc-8c35-4827-b4d7-7bd2a8ceb9f8",
   "metadata": {},
   "source": [
    "### List Comprehensions"
   ]
  },
  {
   "cell_type": "code",
   "execution_count": null,
   "id": "74c2c266-917b-43bc-b143-bce5a8256443",
   "metadata": {},
   "outputs": [],
   "source": [
    "#  List comprehensions let us create new lists based on sequences or ranges."
   ]
  },
  {
   "cell_type": "code",
   "execution_count": 1,
   "id": "6356994d-0a83-442b-aa5e-96d145659c02",
   "metadata": {},
   "outputs": [
    {
     "name": "stdout",
     "output_type": "stream",
     "text": [
      "[7, 14, 21, 28, 35, 42, 49, 56, 63, 70]\n"
     ]
    }
   ],
   "source": [
    "multiples= [x*7 for x in range(1,11)]\n",
    "print(multiples)"
   ]
  },
  {
   "cell_type": "markdown",
   "id": "850d1160-7612-4302-ba8c-c107eefc3819",
   "metadata": {},
   "source": [
    "# DICTIONARIES"
   ]
  },
  {
   "cell_type": "code",
   "execution_count": null,
   "id": "fd3e8e22-e3cc-40ce-8ab2-769f083a5e6b",
   "metadata": {},
   "outputs": [],
   "source": [
    "# A data structure that stores data in key-value pairs"
   ]
  },
  {
   "cell_type": "code",
   "execution_count": 2,
   "id": "b790a6f9-d586-49e5-85bb-42d72c516b06",
   "metadata": {},
   "outputs": [
    {
     "data": {
      "text/plain": [
       "{'jpg': 10, 'txt': 14, 'csv': 4, 'py': 25}"
      ]
     },
     "execution_count": 2,
     "metadata": {},
     "output_type": "execute_result"
    }
   ],
   "source": [
    "dict= {\"jpg\":10, \"txt\":14, \"csv\":4, \"py\":25}\n",
    "dict"
   ]
  },
  {
   "cell_type": "code",
   "execution_count": 3,
   "id": "662d16e0-842f-4449-be0f-8b8ca39b2da0",
   "metadata": {},
   "outputs": [
    {
     "data": {
      "text/plain": [
       "14"
      ]
     },
     "execution_count": 3,
     "metadata": {},
     "output_type": "execute_result"
    }
   ],
   "source": [
    "dict[\"txt\"] #return corresponding value of txt"
   ]
  },
  {
   "cell_type": "code",
   "execution_count": 10,
   "id": "723a19a6-5eee-4d28-ae71-9efd1b1e8022",
   "metadata": {},
   "outputs": [
    {
     "data": {
      "text/plain": [
       "{'jpg': 10, 'txt': 14, 'csv': 4, 'py': 25, 'cfg': 8}"
      ]
     },
     "execution_count": 10,
     "metadata": {},
     "output_type": "execute_result"
    }
   ],
   "source": [
    "dict[\"cfg\"]= 8 #add cfg with value 8 in the dict\n",
    "dict"
   ]
  },
  {
   "cell_type": "code",
   "execution_count": 11,
   "id": "25edcae5-a387-41b9-80e0-dcf15470f59f",
   "metadata": {},
   "outputs": [
    {
     "data": {
      "text/plain": [
       "{'jpg': 10, 'txt': 14, 'csv': 4, 'py': 25}"
      ]
     },
     "execution_count": 11,
     "metadata": {},
     "output_type": "execute_result"
    }
   ],
   "source": [
    "del dict[\"cfg\"] #delete cfg entry from the dict\n",
    "dict"
   ]
  },
  {
   "cell_type": "markdown",
   "id": "3ccb3cc0-765e-4014-85a9-e45dcde2d465",
   "metadata": {},
   "source": [
    "### Iterating over the Contents of a Dictionary"
   ]
  },
  {
   "cell_type": "code",
   "execution_count": 12,
   "id": "1bc2b95a-1120-4e2e-8b7a-90ff6e19fc29",
   "metadata": {},
   "outputs": [
    {
     "name": "stdout",
     "output_type": "stream",
     "text": [
      "jpg\n",
      "txt\n",
      "csv\n",
      "py\n"
     ]
    }
   ],
   "source": [
    "for x in dict: #return the keys of dictionary\n",
    "    print(x)"
   ]
  },
  {
   "cell_type": "code",
   "execution_count": 2,
   "id": "00ff36ca-2e58-475c-81f5-901c8daf552a",
   "metadata": {},
   "outputs": [
    {
     "name": "stdout",
     "output_type": "stream",
     "text": [
      "jpg 10\n",
      "txt 14\n",
      "csv 4\n",
      "py 25\n"
     ]
    }
   ],
   "source": [
    "dict = {\"jpg\": 10, \"txt\": 14, \"csv\": 4, \"py\": 25}\n",
    "for x, y in dict.items(): #return keys and values of dictionary\n",
    "    print(x, y)"
   ]
  },
  {
   "cell_type": "code",
   "execution_count": null,
   "id": "ee6e0208-88af-498a-8f05-93b6b0a1a098",
   "metadata": {},
   "outputs": [],
   "source": []
  }
 ],
 "metadata": {
  "kernelspec": {
   "display_name": "Python 3 (ipykernel)",
   "language": "python",
   "name": "python3"
  },
  "language_info": {
   "codemirror_mode": {
    "name": "ipython",
    "version": 3
   },
   "file_extension": ".py",
   "mimetype": "text/x-python",
   "name": "python",
   "nbconvert_exporter": "python",
   "pygments_lexer": "ipython3",
   "version": "3.12.6"
  }
 },
 "nbformat": 4,
 "nbformat_minor": 5
}
